{
 "cells": [
  {
   "cell_type": "markdown",
   "metadata": {},
   "source": [
    "Background and motivations:\n",
    "\n",
    "Pancreatic cancer is ranked among the most deadliest cancers due to its low 5-year-survival rate and difficulty in successful diagnosis in its early stages in lack of direct characteristic biomarkers. However, methods based on machine learning provide potential means to identify pancreatic cancer using urinary biomarkers. The objective of this capstone project aims to compare multiple classifier models and determine an optimal model to predict whether patients with unseen urinary biomarkers have pancreatic cancer. Being able to correctly detect pancreatic cancer in early stage promises a new approach in clinical diagnosis, which will certainly assist doctors to  produce more accurate results.\n",
    "\n",
    "The dataset used in this project is provided by Crnogorac-Jurcevic et al. in their publication \"A combination of urinary biomarker panel and PancRISK score for earlier detection of pancreatic cancer: A case–control study\" [1] The target variable to be classified is \"diagnosis\" column, with expected values of 1 (healthy), 2 (benign hepatobiliary disease) and 3(pancreatic cancer). Feature variables are chosen to be urinary biomarkers, i.e. plasma_CA19_9, creatinine, LYVE1, REG1B, TFF1, REG1A and patients' age and sex. The rest of the columns, for instance, sample_origin (hospitals at which tests were performed) and stage (pancreatic cancer stage if tested positive) are considered irrelavent to the interest of this project and are therefore disregarded.\n",
    "\n",
    "Since the target variable (diagnosis) takes on 3 possible values, four multi classifier models covered in Supervised Learning Module will be performed in parallel for peer comparison and they are: logistic regression, random forest , K-nearest neighbor and SVM. \n",
    "\n",
    "\n",
    "\n",
    "\n",
    "Disclaimer: Machine learning models with identical objective are trained by the authors from which the aforementioned dataset is taken (see reference), but the following works by Linmin Wang, the student, are by no mean a reconstruction of their prior works. In fact, the models and clinical interpretations of variables elaborated in this paper lay far beyond the student's comprehension and only the dataset was taken from this publication.\n",
    "\n",
    "\n",
    "Reference:\n",
    "[1] A combination of urinary biomarker panel and PancRISK score for earlier detection of pancreatic cancer: A case–control study Debernardi S, O’Brien H, Algahmdi AS, Malats N, Stewart GD, et al. (2020) A combination of urinary biomarker panel and PancRISK score for earlier detection of pancreatic cancer: A case–control study. PLOS Medicine 17(12): e1003489. https://doi.org/10.1371/journal.pmed.1003489\n",
    "\n",
    "\n"
   ]
  },
  {
   "cell_type": "code",
   "execution_count": 1,
   "metadata": {},
   "outputs": [],
   "source": [
    "# Import\n",
    "import numpy as np \n",
    "import pandas as pd \n",
    "import matplotlib.pyplot as plt\n",
    "import seaborn as sns\n",
    "\n",
    "from sklearn import preprocessing\n",
    "\n",
    "from sklearn.preprocessing import MinMaxScaler"
   ]
  },
  {
   "cell_type": "markdown",
   "metadata": {},
   "source": [
    "1. Initial data exploration and data preparation"
   ]
  },
  {
   "cell_type": "code",
   "execution_count": 2,
   "metadata": {},
   "outputs": [
    {
     "name": "stdout",
     "output_type": "stream",
     "text": [
      "(590, 9)\n",
      "<class 'pandas.core.frame.DataFrame'>\n",
      "RangeIndex: 590 entries, 0 to 589\n",
      "Data columns (total 9 columns):\n",
      " #   Column         Non-Null Count  Dtype  \n",
      "---  ------         --------------  -----  \n",
      " 0   age            590 non-null    int64  \n",
      " 1   sex            590 non-null    object \n",
      " 2   diagnosis      590 non-null    int64  \n",
      " 3   plasma_CA19_9  350 non-null    float64\n",
      " 4   creatinine     590 non-null    float64\n",
      " 5   LYVE1          590 non-null    float64\n",
      " 6   REG1B          590 non-null    float64\n",
      " 7   TFF1           590 non-null    float64\n",
      " 8   REG1A          306 non-null    float64\n",
      "dtypes: float64(6), int64(2), object(1)\n",
      "memory usage: 41.6+ KB\n",
      "None\n"
     ]
    }
   ],
   "source": [
    "# Import data and data types\n",
    "df = pd.read_csv('C://Users//Linmin//Downloads//Debernardi et al 2020 data.csv')\n",
    "df = df.drop(columns=['sample_id','patient_cohort','sample_origin','stage','benign_sample_diagnosis'])\n",
    "print(df.shape)\n",
    "print(df.info())\n",
    "\n",
    "# Change sex to is_male, i.e. 1 means male\n",
    "df['is_male'] = pd.get_dummies(df[\"sex\"], drop_first=True)\n",
    "df = df.drop(columns=['sex'])\n"
   ]
  },
  {
   "cell_type": "code",
   "execution_count": 3,
   "metadata": {},
   "outputs": [
    {
     "data": {
      "text/html": [
       "<style>.container { width:100% !important; }</style>"
      ],
      "text/plain": [
       "<IPython.core.display.HTML object>"
      ]
     },
     "metadata": {},
     "output_type": "display_data"
    },
    {
     "data": {
      "text/html": [
       "<div>\n",
       "<style scoped>\n",
       "    .dataframe tbody tr th:only-of-type {\n",
       "        vertical-align: middle;\n",
       "    }\n",
       "\n",
       "    .dataframe tbody tr th {\n",
       "        vertical-align: top;\n",
       "    }\n",
       "\n",
       "    .dataframe thead th {\n",
       "        text-align: right;\n",
       "    }\n",
       "</style>\n",
       "<table border=\"1\" class=\"dataframe\">\n",
       "  <thead>\n",
       "    <tr style=\"text-align: right;\">\n",
       "      <th></th>\n",
       "      <th>age</th>\n",
       "      <th>diagnosis</th>\n",
       "      <th>plasma_CA19_9</th>\n",
       "      <th>creatinine</th>\n",
       "      <th>LYVE1</th>\n",
       "      <th>REG1B</th>\n",
       "      <th>TFF1</th>\n",
       "      <th>REG1A</th>\n",
       "      <th>is_male</th>\n",
       "    </tr>\n",
       "  </thead>\n",
       "  <tbody>\n",
       "    <tr>\n",
       "      <th>0</th>\n",
       "      <td>33</td>\n",
       "      <td>1</td>\n",
       "      <td>11.7</td>\n",
       "      <td>1.83222</td>\n",
       "      <td>0.893219</td>\n",
       "      <td>52.94884</td>\n",
       "      <td>654.282174</td>\n",
       "      <td>1262.000</td>\n",
       "      <td>0</td>\n",
       "    </tr>\n",
       "    <tr>\n",
       "      <th>1</th>\n",
       "      <td>81</td>\n",
       "      <td>1</td>\n",
       "      <td>NaN</td>\n",
       "      <td>0.97266</td>\n",
       "      <td>2.037585</td>\n",
       "      <td>94.46703</td>\n",
       "      <td>209.488250</td>\n",
       "      <td>228.407</td>\n",
       "      <td>0</td>\n",
       "    </tr>\n",
       "    <tr>\n",
       "      <th>2</th>\n",
       "      <td>51</td>\n",
       "      <td>1</td>\n",
       "      <td>7.0</td>\n",
       "      <td>0.78039</td>\n",
       "      <td>0.145589</td>\n",
       "      <td>102.36600</td>\n",
       "      <td>461.141000</td>\n",
       "      <td>NaN</td>\n",
       "      <td>1</td>\n",
       "    </tr>\n",
       "    <tr>\n",
       "      <th>3</th>\n",
       "      <td>61</td>\n",
       "      <td>1</td>\n",
       "      <td>8.0</td>\n",
       "      <td>0.70122</td>\n",
       "      <td>0.002805</td>\n",
       "      <td>60.57900</td>\n",
       "      <td>142.950000</td>\n",
       "      <td>NaN</td>\n",
       "      <td>1</td>\n",
       "    </tr>\n",
       "    <tr>\n",
       "      <th>4</th>\n",
       "      <td>62</td>\n",
       "      <td>1</td>\n",
       "      <td>9.0</td>\n",
       "      <td>0.21489</td>\n",
       "      <td>0.000860</td>\n",
       "      <td>65.54000</td>\n",
       "      <td>41.088000</td>\n",
       "      <td>NaN</td>\n",
       "      <td>1</td>\n",
       "    </tr>\n",
       "    <tr>\n",
       "      <th>5</th>\n",
       "      <td>53</td>\n",
       "      <td>1</td>\n",
       "      <td>NaN</td>\n",
       "      <td>0.84825</td>\n",
       "      <td>0.003393</td>\n",
       "      <td>62.12600</td>\n",
       "      <td>59.793000</td>\n",
       "      <td>NaN</td>\n",
       "      <td>1</td>\n",
       "    </tr>\n",
       "    <tr>\n",
       "      <th>6</th>\n",
       "      <td>70</td>\n",
       "      <td>1</td>\n",
       "      <td>NaN</td>\n",
       "      <td>0.62205</td>\n",
       "      <td>0.174381</td>\n",
       "      <td>152.27700</td>\n",
       "      <td>117.516000</td>\n",
       "      <td>NaN</td>\n",
       "      <td>1</td>\n",
       "    </tr>\n",
       "    <tr>\n",
       "      <th>7</th>\n",
       "      <td>58</td>\n",
       "      <td>1</td>\n",
       "      <td>11.0</td>\n",
       "      <td>0.89349</td>\n",
       "      <td>0.003574</td>\n",
       "      <td>3.73000</td>\n",
       "      <td>40.294000</td>\n",
       "      <td>NaN</td>\n",
       "      <td>0</td>\n",
       "    </tr>\n",
       "    <tr>\n",
       "      <th>8</th>\n",
       "      <td>59</td>\n",
       "      <td>1</td>\n",
       "      <td>NaN</td>\n",
       "      <td>0.48633</td>\n",
       "      <td>0.001945</td>\n",
       "      <td>7.02100</td>\n",
       "      <td>26.782000</td>\n",
       "      <td>NaN</td>\n",
       "      <td>0</td>\n",
       "    </tr>\n",
       "    <tr>\n",
       "      <th>9</th>\n",
       "      <td>56</td>\n",
       "      <td>1</td>\n",
       "      <td>24.0</td>\n",
       "      <td>0.61074</td>\n",
       "      <td>0.278778</td>\n",
       "      <td>83.92800</td>\n",
       "      <td>19.185000</td>\n",
       "      <td>NaN</td>\n",
       "      <td>0</td>\n",
       "    </tr>\n",
       "    <tr>\n",
       "      <th>10</th>\n",
       "      <td>77</td>\n",
       "      <td>1</td>\n",
       "      <td>NaN</td>\n",
       "      <td>0.29406</td>\n",
       "      <td>0.001176</td>\n",
       "      <td>6.21800</td>\n",
       "      <td>28.297000</td>\n",
       "      <td>NaN</td>\n",
       "      <td>0</td>\n",
       "    </tr>\n",
       "    <tr>\n",
       "      <th>11</th>\n",
       "      <td>71</td>\n",
       "      <td>1</td>\n",
       "      <td>23.0</td>\n",
       "      <td>1.05183</td>\n",
       "      <td>0.860337</td>\n",
       "      <td>243.08200</td>\n",
       "      <td>608.284000</td>\n",
       "      <td>NaN</td>\n",
       "      <td>1</td>\n",
       "    </tr>\n",
       "    <tr>\n",
       "      <th>12</th>\n",
       "      <td>49</td>\n",
       "      <td>1</td>\n",
       "      <td>NaN</td>\n",
       "      <td>0.85956</td>\n",
       "      <td>1.416314</td>\n",
       "      <td>151.83077</td>\n",
       "      <td>74.189903</td>\n",
       "      <td>505.571</td>\n",
       "      <td>0</td>\n",
       "    </tr>\n",
       "    <tr>\n",
       "      <th>13</th>\n",
       "      <td>53</td>\n",
       "      <td>1</td>\n",
       "      <td>7.0</td>\n",
       "      <td>1.91139</td>\n",
       "      <td>1.516773</td>\n",
       "      <td>150.89000</td>\n",
       "      <td>590.686000</td>\n",
       "      <td>NaN</td>\n",
       "      <td>1</td>\n",
       "    </tr>\n",
       "    <tr>\n",
       "      <th>14</th>\n",
       "      <td>56</td>\n",
       "      <td>1</td>\n",
       "      <td>12.0</td>\n",
       "      <td>0.91611</td>\n",
       "      <td>0.599645</td>\n",
       "      <td>93.81100</td>\n",
       "      <td>93.576000</td>\n",
       "      <td>NaN</td>\n",
       "      <td>0</td>\n",
       "    </tr>\n",
       "    <tr>\n",
       "      <th>15</th>\n",
       "      <td>60</td>\n",
       "      <td>1</td>\n",
       "      <td>28.0</td>\n",
       "      <td>0.50895</td>\n",
       "      <td>0.002036</td>\n",
       "      <td>24.36600</td>\n",
       "      <td>19.698000</td>\n",
       "      <td>NaN</td>\n",
       "      <td>0</td>\n",
       "    </tr>\n",
       "    <tr>\n",
       "      <th>16</th>\n",
       "      <td>69</td>\n",
       "      <td>1</td>\n",
       "      <td>9.0</td>\n",
       "      <td>0.41847</td>\n",
       "      <td>0.001674</td>\n",
       "      <td>17.10200</td>\n",
       "      <td>0.032641</td>\n",
       "      <td>NaN</td>\n",
       "      <td>0</td>\n",
       "    </tr>\n",
       "    <tr>\n",
       "      <th>17</th>\n",
       "      <td>60</td>\n",
       "      <td>1</td>\n",
       "      <td>47.0</td>\n",
       "      <td>0.80301</td>\n",
       "      <td>0.003212</td>\n",
       "      <td>3.58800</td>\n",
       "      <td>30.071000</td>\n",
       "      <td>NaN</td>\n",
       "      <td>0</td>\n",
       "    </tr>\n",
       "    <tr>\n",
       "      <th>18</th>\n",
       "      <td>55</td>\n",
       "      <td>1</td>\n",
       "      <td>17.0</td>\n",
       "      <td>1.28934</td>\n",
       "      <td>2.285351</td>\n",
       "      <td>67.46800</td>\n",
       "      <td>269.805000</td>\n",
       "      <td>NaN</td>\n",
       "      <td>1</td>\n",
       "    </tr>\n",
       "    <tr>\n",
       "      <th>19</th>\n",
       "      <td>28</td>\n",
       "      <td>1</td>\n",
       "      <td>8.7</td>\n",
       "      <td>0.50895</td>\n",
       "      <td>0.583010</td>\n",
       "      <td>13.61906</td>\n",
       "      <td>267.193539</td>\n",
       "      <td>381.000</td>\n",
       "      <td>0</td>\n",
       "    </tr>\n",
       "  </tbody>\n",
       "</table>\n",
       "</div>"
      ],
      "text/plain": [
       "    age  diagnosis  plasma_CA19_9  creatinine     LYVE1      REG1B  \\\n",
       "0    33          1           11.7     1.83222  0.893219   52.94884   \n",
       "1    81          1            NaN     0.97266  2.037585   94.46703   \n",
       "2    51          1            7.0     0.78039  0.145589  102.36600   \n",
       "3    61          1            8.0     0.70122  0.002805   60.57900   \n",
       "4    62          1            9.0     0.21489  0.000860   65.54000   \n",
       "5    53          1            NaN     0.84825  0.003393   62.12600   \n",
       "6    70          1            NaN     0.62205  0.174381  152.27700   \n",
       "7    58          1           11.0     0.89349  0.003574    3.73000   \n",
       "8    59          1            NaN     0.48633  0.001945    7.02100   \n",
       "9    56          1           24.0     0.61074  0.278778   83.92800   \n",
       "10   77          1            NaN     0.29406  0.001176    6.21800   \n",
       "11   71          1           23.0     1.05183  0.860337  243.08200   \n",
       "12   49          1            NaN     0.85956  1.416314  151.83077   \n",
       "13   53          1            7.0     1.91139  1.516773  150.89000   \n",
       "14   56          1           12.0     0.91611  0.599645   93.81100   \n",
       "15   60          1           28.0     0.50895  0.002036   24.36600   \n",
       "16   69          1            9.0     0.41847  0.001674   17.10200   \n",
       "17   60          1           47.0     0.80301  0.003212    3.58800   \n",
       "18   55          1           17.0     1.28934  2.285351   67.46800   \n",
       "19   28          1            8.7     0.50895  0.583010   13.61906   \n",
       "\n",
       "          TFF1     REG1A  is_male  \n",
       "0   654.282174  1262.000        0  \n",
       "1   209.488250   228.407        0  \n",
       "2   461.141000       NaN        1  \n",
       "3   142.950000       NaN        1  \n",
       "4    41.088000       NaN        1  \n",
       "5    59.793000       NaN        1  \n",
       "6   117.516000       NaN        1  \n",
       "7    40.294000       NaN        0  \n",
       "8    26.782000       NaN        0  \n",
       "9    19.185000       NaN        0  \n",
       "10   28.297000       NaN        0  \n",
       "11  608.284000       NaN        1  \n",
       "12   74.189903   505.571        0  \n",
       "13  590.686000       NaN        1  \n",
       "14   93.576000       NaN        0  \n",
       "15   19.698000       NaN        0  \n",
       "16    0.032641       NaN        0  \n",
       "17   30.071000       NaN        0  \n",
       "18  269.805000       NaN        1  \n",
       "19  267.193539   381.000        0  "
      ]
     },
     "execution_count": 3,
     "metadata": {},
     "output_type": "execute_result"
    }
   ],
   "source": [
    "from IPython.core.display import display, HTML\n",
    "display(HTML(\"<style>.container { width:100% !important; }</style>\"))\n",
    "\n",
    "df.head(20)\n"
   ]
  },
  {
   "cell_type": "code",
   "execution_count": 4,
   "metadata": {},
   "outputs": [
    {
     "data": {
      "text/html": [
       "<div>\n",
       "<style scoped>\n",
       "    .dataframe tbody tr th:only-of-type {\n",
       "        vertical-align: middle;\n",
       "    }\n",
       "\n",
       "    .dataframe tbody tr th {\n",
       "        vertical-align: top;\n",
       "    }\n",
       "\n",
       "    .dataframe thead th {\n",
       "        text-align: right;\n",
       "    }\n",
       "</style>\n",
       "<table border=\"1\" class=\"dataframe\">\n",
       "  <thead>\n",
       "    <tr style=\"text-align: right;\">\n",
       "      <th></th>\n",
       "      <th>age</th>\n",
       "      <th>diagnosis</th>\n",
       "      <th>is_male</th>\n",
       "      <th>creatinine</th>\n",
       "      <th>LYVE1</th>\n",
       "      <th>REG1B</th>\n",
       "      <th>TFF1</th>\n",
       "      <th>REG1A</th>\n",
       "      <th>plasma_CA19_9</th>\n",
       "    </tr>\n",
       "  </thead>\n",
       "  <tbody>\n",
       "    <tr>\n",
       "      <th>0</th>\n",
       "      <td>26</td>\n",
       "      <td>1</td>\n",
       "      <td>0</td>\n",
       "      <td>0.19227</td>\n",
       "      <td>0.000906</td>\n",
       "      <td>13.027030</td>\n",
       "      <td>0.906008</td>\n",
       "      <td>NaN</td>\n",
       "      <td>3.527344</td>\n",
       "    </tr>\n",
       "    <tr>\n",
       "      <th>1</th>\n",
       "      <td>26</td>\n",
       "      <td>2</td>\n",
       "      <td>0</td>\n",
       "      <td>0.23751</td>\n",
       "      <td>0.000950</td>\n",
       "      <td>3.680000</td>\n",
       "      <td>50.945000</td>\n",
       "      <td>NaN</td>\n",
       "      <td>26.000000</td>\n",
       "    </tr>\n",
       "    <tr>\n",
       "      <th>2</th>\n",
       "      <td>28</td>\n",
       "      <td>1</td>\n",
       "      <td>0</td>\n",
       "      <td>0.50895</td>\n",
       "      <td>0.583010</td>\n",
       "      <td>13.619060</td>\n",
       "      <td>267.193539</td>\n",
       "      <td>381.000</td>\n",
       "      <td>8.700000</td>\n",
       "    </tr>\n",
       "    <tr>\n",
       "      <th>3</th>\n",
       "      <td>28</td>\n",
       "      <td>1</td>\n",
       "      <td>0</td>\n",
       "      <td>0.32799</td>\n",
       "      <td>0.001312</td>\n",
       "      <td>7.520023</td>\n",
       "      <td>19.210785</td>\n",
       "      <td>0.000</td>\n",
       "      <td>84.300000</td>\n",
       "    </tr>\n",
       "    <tr>\n",
       "      <th>4</th>\n",
       "      <td>28</td>\n",
       "      <td>2</td>\n",
       "      <td>0</td>\n",
       "      <td>0.44109</td>\n",
       "      <td>0.001764</td>\n",
       "      <td>10.888000</td>\n",
       "      <td>18.613000</td>\n",
       "      <td>NaN</td>\n",
       "      <td>5.000000</td>\n",
       "    </tr>\n",
       "    <tr>\n",
       "      <th>5</th>\n",
       "      <td>29</td>\n",
       "      <td>2</td>\n",
       "      <td>0</td>\n",
       "      <td>0.12441</td>\n",
       "      <td>0.000498</td>\n",
       "      <td>0.201000</td>\n",
       "      <td>11.541000</td>\n",
       "      <td>NaN</td>\n",
       "      <td>NaN</td>\n",
       "    </tr>\n",
       "    <tr>\n",
       "      <th>6</th>\n",
       "      <td>29</td>\n",
       "      <td>2</td>\n",
       "      <td>0</td>\n",
       "      <td>1.13100</td>\n",
       "      <td>3.565135</td>\n",
       "      <td>240.235000</td>\n",
       "      <td>671.283000</td>\n",
       "      <td>NaN</td>\n",
       "      <td>25.000000</td>\n",
       "    </tr>\n",
       "    <tr>\n",
       "      <th>7</th>\n",
       "      <td>29</td>\n",
       "      <td>2</td>\n",
       "      <td>1</td>\n",
       "      <td>0.46371</td>\n",
       "      <td>4.027098</td>\n",
       "      <td>34.053828</td>\n",
       "      <td>308.702405</td>\n",
       "      <td>774.000</td>\n",
       "      <td>32.300000</td>\n",
       "    </tr>\n",
       "    <tr>\n",
       "      <th>8</th>\n",
       "      <td>29</td>\n",
       "      <td>2</td>\n",
       "      <td>1</td>\n",
       "      <td>0.21489</td>\n",
       "      <td>3.719767</td>\n",
       "      <td>12.739000</td>\n",
       "      <td>122.842000</td>\n",
       "      <td>NaN</td>\n",
       "      <td>13.000000</td>\n",
       "    </tr>\n",
       "    <tr>\n",
       "      <th>9</th>\n",
       "      <td>29</td>\n",
       "      <td>3</td>\n",
       "      <td>1</td>\n",
       "      <td>2.80488</td>\n",
       "      <td>5.137218</td>\n",
       "      <td>918.738030</td>\n",
       "      <td>2207.570000</td>\n",
       "      <td>1926.084</td>\n",
       "      <td>468.300000</td>\n",
       "    </tr>\n",
       "    <tr>\n",
       "      <th>10</th>\n",
       "      <td>30</td>\n",
       "      <td>1</td>\n",
       "      <td>0</td>\n",
       "      <td>0.87087</td>\n",
       "      <td>1.174235</td>\n",
       "      <td>22.758806</td>\n",
       "      <td>88.503186</td>\n",
       "      <td>650.000</td>\n",
       "      <td>0.600000</td>\n",
       "    </tr>\n",
       "    <tr>\n",
       "      <th>11</th>\n",
       "      <td>30</td>\n",
       "      <td>1</td>\n",
       "      <td>0</td>\n",
       "      <td>1.71912</td>\n",
       "      <td>1.642057</td>\n",
       "      <td>43.827000</td>\n",
       "      <td>326.372000</td>\n",
       "      <td>NaN</td>\n",
       "      <td>NaN</td>\n",
       "    </tr>\n",
       "    <tr>\n",
       "      <th>12</th>\n",
       "      <td>30</td>\n",
       "      <td>1</td>\n",
       "      <td>1</td>\n",
       "      <td>1.18755</td>\n",
       "      <td>1.600313</td>\n",
       "      <td>22.471281</td>\n",
       "      <td>299.118360</td>\n",
       "      <td>570.000</td>\n",
       "      <td>10.800000</td>\n",
       "    </tr>\n",
       "    <tr>\n",
       "      <th>13</th>\n",
       "      <td>30</td>\n",
       "      <td>2</td>\n",
       "      <td>0</td>\n",
       "      <td>1.43637</td>\n",
       "      <td>5.539408</td>\n",
       "      <td>50.443673</td>\n",
       "      <td>4.471384</td>\n",
       "      <td>205.648</td>\n",
       "      <td>NaN</td>\n",
       "    </tr>\n",
       "    <tr>\n",
       "      <th>14</th>\n",
       "      <td>31</td>\n",
       "      <td>2</td>\n",
       "      <td>1</td>\n",
       "      <td>0.73515</td>\n",
       "      <td>0.002941</td>\n",
       "      <td>12.643000</td>\n",
       "      <td>94.847000</td>\n",
       "      <td>NaN</td>\n",
       "      <td>NaN</td>\n",
       "    </tr>\n",
       "    <tr>\n",
       "      <th>15</th>\n",
       "      <td>31</td>\n",
       "      <td>2</td>\n",
       "      <td>1</td>\n",
       "      <td>0.88218</td>\n",
       "      <td>0.157447</td>\n",
       "      <td>3.802926</td>\n",
       "      <td>101.546100</td>\n",
       "      <td>32.058</td>\n",
       "      <td>NaN</td>\n",
       "    </tr>\n",
       "    <tr>\n",
       "      <th>16</th>\n",
       "      <td>31</td>\n",
       "      <td>2</td>\n",
       "      <td>1</td>\n",
       "      <td>3.33645</td>\n",
       "      <td>0.073313</td>\n",
       "      <td>12.445650</td>\n",
       "      <td>397.911600</td>\n",
       "      <td>75.094</td>\n",
       "      <td>NaN</td>\n",
       "    </tr>\n",
       "    <tr>\n",
       "      <th>17</th>\n",
       "      <td>32</td>\n",
       "      <td>2</td>\n",
       "      <td>0</td>\n",
       "      <td>1.16493</td>\n",
       "      <td>5.417692</td>\n",
       "      <td>21.135000</td>\n",
       "      <td>445.725000</td>\n",
       "      <td>NaN</td>\n",
       "      <td>12.000000</td>\n",
       "    </tr>\n",
       "    <tr>\n",
       "      <th>18</th>\n",
       "      <td>32</td>\n",
       "      <td>2</td>\n",
       "      <td>1</td>\n",
       "      <td>2.48820</td>\n",
       "      <td>0.009953</td>\n",
       "      <td>166.838700</td>\n",
       "      <td>67.012987</td>\n",
       "      <td>19.610</td>\n",
       "      <td>NaN</td>\n",
       "    </tr>\n",
       "    <tr>\n",
       "      <th>19</th>\n",
       "      <td>33</td>\n",
       "      <td>1</td>\n",
       "      <td>0</td>\n",
       "      <td>1.83222</td>\n",
       "      <td>0.893219</td>\n",
       "      <td>52.948840</td>\n",
       "      <td>654.282174</td>\n",
       "      <td>1262.000</td>\n",
       "      <td>11.700000</td>\n",
       "    </tr>\n",
       "  </tbody>\n",
       "</table>\n",
       "</div>"
      ],
      "text/plain": [
       "    age  diagnosis  is_male  creatinine     LYVE1       REG1B         TFF1  \\\n",
       "0    26          1        0     0.19227  0.000906   13.027030     0.906008   \n",
       "1    26          2        0     0.23751  0.000950    3.680000    50.945000   \n",
       "2    28          1        0     0.50895  0.583010   13.619060   267.193539   \n",
       "3    28          1        0     0.32799  0.001312    7.520023    19.210785   \n",
       "4    28          2        0     0.44109  0.001764   10.888000    18.613000   \n",
       "5    29          2        0     0.12441  0.000498    0.201000    11.541000   \n",
       "6    29          2        0     1.13100  3.565135  240.235000   671.283000   \n",
       "7    29          2        1     0.46371  4.027098   34.053828   308.702405   \n",
       "8    29          2        1     0.21489  3.719767   12.739000   122.842000   \n",
       "9    29          3        1     2.80488  5.137218  918.738030  2207.570000   \n",
       "10   30          1        0     0.87087  1.174235   22.758806    88.503186   \n",
       "11   30          1        0     1.71912  1.642057   43.827000   326.372000   \n",
       "12   30          1        1     1.18755  1.600313   22.471281   299.118360   \n",
       "13   30          2        0     1.43637  5.539408   50.443673     4.471384   \n",
       "14   31          2        1     0.73515  0.002941   12.643000    94.847000   \n",
       "15   31          2        1     0.88218  0.157447    3.802926   101.546100   \n",
       "16   31          2        1     3.33645  0.073313   12.445650   397.911600   \n",
       "17   32          2        0     1.16493  5.417692   21.135000   445.725000   \n",
       "18   32          2        1     2.48820  0.009953  166.838700    67.012987   \n",
       "19   33          1        0     1.83222  0.893219   52.948840   654.282174   \n",
       "\n",
       "       REG1A  plasma_CA19_9  \n",
       "0        NaN       3.527344  \n",
       "1        NaN      26.000000  \n",
       "2    381.000       8.700000  \n",
       "3      0.000      84.300000  \n",
       "4        NaN       5.000000  \n",
       "5        NaN            NaN  \n",
       "6        NaN      25.000000  \n",
       "7    774.000      32.300000  \n",
       "8        NaN      13.000000  \n",
       "9   1926.084     468.300000  \n",
       "10   650.000       0.600000  \n",
       "11       NaN            NaN  \n",
       "12   570.000      10.800000  \n",
       "13   205.648            NaN  \n",
       "14       NaN            NaN  \n",
       "15    32.058            NaN  \n",
       "16    75.094            NaN  \n",
       "17       NaN      12.000000  \n",
       "18    19.610            NaN  \n",
       "19  1262.000      11.700000  "
      ]
     },
     "execution_count": 4,
     "metadata": {},
     "output_type": "execute_result"
    }
   ],
   "source": [
    "# Reorganize the dataframe, swap the is_male column with plasma_CA19_9 column, and sort the rows by age, diagnosis and is_male\n",
    "\n",
    "headers = list(df.columns)\n",
    "headers[2],headers[-1] = headers[-1],headers[2]\n",
    "df = df.reindex(columns=headers)\n",
    "df = df.sort_values(by=['age','diagnosis','is_male']).reset_index(drop=True)\n",
    "df.head(20)"
   ]
  },
  {
   "cell_type": "code",
   "execution_count": null,
   "metadata": {},
   "outputs": [],
   "source": []
  },
  {
   "cell_type": "code",
   "execution_count": 4,
   "metadata": {},
   "outputs": [
    {
     "data": {
      "text/plain": [
       "age              0.000000\n",
       "diagnosis        0.000000\n",
       "is_male          0.000000\n",
       "creatinine       0.000000\n",
       "LYVE1            0.000000\n",
       "REG1B            0.000000\n",
       "TFF1             0.000000\n",
       "REG1A            0.481356\n",
       "plasma_CA19_9    0.406780\n",
       "dtype: float64"
      ]
     },
     "execution_count": 4,
     "metadata": {},
     "output_type": "execute_result"
    }
   ],
   "source": [
    "# Count the nulls \n",
    "null_count = df.isnull().sum()\n",
    "null_count/len(df)\n"
   ]
  },
  {
   "cell_type": "markdown",
   "metadata": {},
   "source": [
    "Seeing that a significant portion of 'REG1A' and 'plasma_CA19_9' is missing values, 48.1% and 40.6%, respectively, a method must be adopted to fill in the missing values. The strategy here is to find patients with identical gender, diagnosis result and closest age. If multiple instances matching the above conditions are found, the average of either REG1A and plasma_CA19_9 will be used to fill in the corresponding missing cells. "
   ]
  },
  {
   "cell_type": "code",
   "execution_count": 5,
   "metadata": {},
   "outputs": [
    {
     "data": {
      "text/html": [
       "<div>\n",
       "<style scoped>\n",
       "    .dataframe tbody tr th:only-of-type {\n",
       "        vertical-align: middle;\n",
       "    }\n",
       "\n",
       "    .dataframe tbody tr th {\n",
       "        vertical-align: top;\n",
       "    }\n",
       "\n",
       "    .dataframe thead th {\n",
       "        text-align: right;\n",
       "    }\n",
       "</style>\n",
       "<table border=\"1\" class=\"dataframe\">\n",
       "  <thead>\n",
       "    <tr style=\"text-align: right;\">\n",
       "      <th></th>\n",
       "      <th>age</th>\n",
       "      <th>diagnosis</th>\n",
       "      <th>is_male</th>\n",
       "      <th>creatinine</th>\n",
       "      <th>LYVE1</th>\n",
       "      <th>REG1B</th>\n",
       "      <th>TFF1</th>\n",
       "      <th>REG1A</th>\n",
       "      <th>plasma_CA19_9</th>\n",
       "    </tr>\n",
       "  </thead>\n",
       "  <tbody>\n",
       "    <tr>\n",
       "      <th>0</th>\n",
       "      <td>26</td>\n",
       "      <td>1</td>\n",
       "      <td>0</td>\n",
       "      <td>0.19227</td>\n",
       "      <td>0.000906</td>\n",
       "      <td>13.027030</td>\n",
       "      <td>0.906008</td>\n",
       "      <td>381.000</td>\n",
       "      <td>3.527344</td>\n",
       "    </tr>\n",
       "    <tr>\n",
       "      <th>1</th>\n",
       "      <td>26</td>\n",
       "      <td>2</td>\n",
       "      <td>0</td>\n",
       "      <td>0.23751</td>\n",
       "      <td>0.000950</td>\n",
       "      <td>3.680000</td>\n",
       "      <td>50.945000</td>\n",
       "      <td>205.648</td>\n",
       "      <td>26.000000</td>\n",
       "    </tr>\n",
       "    <tr>\n",
       "      <th>2</th>\n",
       "      <td>28</td>\n",
       "      <td>1</td>\n",
       "      <td>0</td>\n",
       "      <td>0.50895</td>\n",
       "      <td>0.583010</td>\n",
       "      <td>13.619060</td>\n",
       "      <td>267.193539</td>\n",
       "      <td>381.000</td>\n",
       "      <td>8.700000</td>\n",
       "    </tr>\n",
       "    <tr>\n",
       "      <th>3</th>\n",
       "      <td>28</td>\n",
       "      <td>1</td>\n",
       "      <td>0</td>\n",
       "      <td>0.32799</td>\n",
       "      <td>0.001312</td>\n",
       "      <td>7.520023</td>\n",
       "      <td>19.210785</td>\n",
       "      <td>381.000</td>\n",
       "      <td>84.300000</td>\n",
       "    </tr>\n",
       "    <tr>\n",
       "      <th>4</th>\n",
       "      <td>28</td>\n",
       "      <td>2</td>\n",
       "      <td>0</td>\n",
       "      <td>0.44109</td>\n",
       "      <td>0.001764</td>\n",
       "      <td>10.888000</td>\n",
       "      <td>18.613000</td>\n",
       "      <td>205.648</td>\n",
       "      <td>5.000000</td>\n",
       "    </tr>\n",
       "    <tr>\n",
       "      <th>5</th>\n",
       "      <td>29</td>\n",
       "      <td>2</td>\n",
       "      <td>0</td>\n",
       "      <td>0.12441</td>\n",
       "      <td>0.000498</td>\n",
       "      <td>0.201000</td>\n",
       "      <td>11.541000</td>\n",
       "      <td>205.648</td>\n",
       "      <td>25.000000</td>\n",
       "    </tr>\n",
       "    <tr>\n",
       "      <th>6</th>\n",
       "      <td>29</td>\n",
       "      <td>2</td>\n",
       "      <td>0</td>\n",
       "      <td>1.13100</td>\n",
       "      <td>3.565135</td>\n",
       "      <td>240.235000</td>\n",
       "      <td>671.283000</td>\n",
       "      <td>205.648</td>\n",
       "      <td>25.000000</td>\n",
       "    </tr>\n",
       "    <tr>\n",
       "      <th>7</th>\n",
       "      <td>29</td>\n",
       "      <td>2</td>\n",
       "      <td>1</td>\n",
       "      <td>0.46371</td>\n",
       "      <td>4.027098</td>\n",
       "      <td>34.053828</td>\n",
       "      <td>308.702405</td>\n",
       "      <td>774.000</td>\n",
       "      <td>32.300000</td>\n",
       "    </tr>\n",
       "    <tr>\n",
       "      <th>8</th>\n",
       "      <td>29</td>\n",
       "      <td>2</td>\n",
       "      <td>1</td>\n",
       "      <td>0.21489</td>\n",
       "      <td>3.719767</td>\n",
       "      <td>12.739000</td>\n",
       "      <td>122.842000</td>\n",
       "      <td>774.000</td>\n",
       "      <td>13.000000</td>\n",
       "    </tr>\n",
       "    <tr>\n",
       "      <th>9</th>\n",
       "      <td>29</td>\n",
       "      <td>3</td>\n",
       "      <td>1</td>\n",
       "      <td>2.80488</td>\n",
       "      <td>5.137218</td>\n",
       "      <td>918.738030</td>\n",
       "      <td>2207.570000</td>\n",
       "      <td>1926.084</td>\n",
       "      <td>468.300000</td>\n",
       "    </tr>\n",
       "    <tr>\n",
       "      <th>10</th>\n",
       "      <td>30</td>\n",
       "      <td>1</td>\n",
       "      <td>0</td>\n",
       "      <td>0.87087</td>\n",
       "      <td>1.174235</td>\n",
       "      <td>22.758806</td>\n",
       "      <td>88.503186</td>\n",
       "      <td>650.000</td>\n",
       "      <td>0.600000</td>\n",
       "    </tr>\n",
       "    <tr>\n",
       "      <th>11</th>\n",
       "      <td>30</td>\n",
       "      <td>1</td>\n",
       "      <td>0</td>\n",
       "      <td>1.71912</td>\n",
       "      <td>1.642057</td>\n",
       "      <td>43.827000</td>\n",
       "      <td>326.372000</td>\n",
       "      <td>650.000</td>\n",
       "      <td>0.600000</td>\n",
       "    </tr>\n",
       "    <tr>\n",
       "      <th>12</th>\n",
       "      <td>30</td>\n",
       "      <td>1</td>\n",
       "      <td>1</td>\n",
       "      <td>1.18755</td>\n",
       "      <td>1.600313</td>\n",
       "      <td>22.471281</td>\n",
       "      <td>299.118360</td>\n",
       "      <td>570.000</td>\n",
       "      <td>10.800000</td>\n",
       "    </tr>\n",
       "    <tr>\n",
       "      <th>13</th>\n",
       "      <td>30</td>\n",
       "      <td>2</td>\n",
       "      <td>0</td>\n",
       "      <td>1.43637</td>\n",
       "      <td>5.539408</td>\n",
       "      <td>50.443673</td>\n",
       "      <td>4.471384</td>\n",
       "      <td>205.648</td>\n",
       "      <td>25.000000</td>\n",
       "    </tr>\n",
       "    <tr>\n",
       "      <th>14</th>\n",
       "      <td>31</td>\n",
       "      <td>2</td>\n",
       "      <td>1</td>\n",
       "      <td>0.73515</td>\n",
       "      <td>0.002941</td>\n",
       "      <td>12.643000</td>\n",
       "      <td>94.847000</td>\n",
       "      <td>53.576</td>\n",
       "      <td>22.650000</td>\n",
       "    </tr>\n",
       "    <tr>\n",
       "      <th>15</th>\n",
       "      <td>31</td>\n",
       "      <td>2</td>\n",
       "      <td>1</td>\n",
       "      <td>0.88218</td>\n",
       "      <td>0.157447</td>\n",
       "      <td>3.802926</td>\n",
       "      <td>101.546100</td>\n",
       "      <td>32.058</td>\n",
       "      <td>22.650000</td>\n",
       "    </tr>\n",
       "    <tr>\n",
       "      <th>16</th>\n",
       "      <td>31</td>\n",
       "      <td>2</td>\n",
       "      <td>1</td>\n",
       "      <td>3.33645</td>\n",
       "      <td>0.073313</td>\n",
       "      <td>12.445650</td>\n",
       "      <td>397.911600</td>\n",
       "      <td>75.094</td>\n",
       "      <td>22.650000</td>\n",
       "    </tr>\n",
       "    <tr>\n",
       "      <th>17</th>\n",
       "      <td>32</td>\n",
       "      <td>2</td>\n",
       "      <td>0</td>\n",
       "      <td>1.16493</td>\n",
       "      <td>5.417692</td>\n",
       "      <td>21.135000</td>\n",
       "      <td>445.725000</td>\n",
       "      <td>205.648</td>\n",
       "      <td>12.000000</td>\n",
       "    </tr>\n",
       "    <tr>\n",
       "      <th>18</th>\n",
       "      <td>32</td>\n",
       "      <td>2</td>\n",
       "      <td>1</td>\n",
       "      <td>2.48820</td>\n",
       "      <td>0.009953</td>\n",
       "      <td>166.838700</td>\n",
       "      <td>67.012987</td>\n",
       "      <td>19.610</td>\n",
       "      <td>22.650000</td>\n",
       "    </tr>\n",
       "    <tr>\n",
       "      <th>19</th>\n",
       "      <td>33</td>\n",
       "      <td>1</td>\n",
       "      <td>0</td>\n",
       "      <td>1.83222</td>\n",
       "      <td>0.893219</td>\n",
       "      <td>52.948840</td>\n",
       "      <td>654.282174</td>\n",
       "      <td>1262.000</td>\n",
       "      <td>11.700000</td>\n",
       "    </tr>\n",
       "  </tbody>\n",
       "</table>\n",
       "</div>"
      ],
      "text/plain": [
       "    age  diagnosis  is_male  creatinine     LYVE1       REG1B         TFF1  \\\n",
       "0    26          1        0     0.19227  0.000906   13.027030     0.906008   \n",
       "1    26          2        0     0.23751  0.000950    3.680000    50.945000   \n",
       "2    28          1        0     0.50895  0.583010   13.619060   267.193539   \n",
       "3    28          1        0     0.32799  0.001312    7.520023    19.210785   \n",
       "4    28          2        0     0.44109  0.001764   10.888000    18.613000   \n",
       "5    29          2        0     0.12441  0.000498    0.201000    11.541000   \n",
       "6    29          2        0     1.13100  3.565135  240.235000   671.283000   \n",
       "7    29          2        1     0.46371  4.027098   34.053828   308.702405   \n",
       "8    29          2        1     0.21489  3.719767   12.739000   122.842000   \n",
       "9    29          3        1     2.80488  5.137218  918.738030  2207.570000   \n",
       "10   30          1        0     0.87087  1.174235   22.758806    88.503186   \n",
       "11   30          1        0     1.71912  1.642057   43.827000   326.372000   \n",
       "12   30          1        1     1.18755  1.600313   22.471281   299.118360   \n",
       "13   30          2        0     1.43637  5.539408   50.443673     4.471384   \n",
       "14   31          2        1     0.73515  0.002941   12.643000    94.847000   \n",
       "15   31          2        1     0.88218  0.157447    3.802926   101.546100   \n",
       "16   31          2        1     3.33645  0.073313   12.445650   397.911600   \n",
       "17   32          2        0     1.16493  5.417692   21.135000   445.725000   \n",
       "18   32          2        1     2.48820  0.009953  166.838700    67.012987   \n",
       "19   33          1        0     1.83222  0.893219   52.948840   654.282174   \n",
       "\n",
       "       REG1A  plasma_CA19_9  \n",
       "0    381.000       3.527344  \n",
       "1    205.648      26.000000  \n",
       "2    381.000       8.700000  \n",
       "3    381.000      84.300000  \n",
       "4    205.648       5.000000  \n",
       "5    205.648      25.000000  \n",
       "6    205.648      25.000000  \n",
       "7    774.000      32.300000  \n",
       "8    774.000      13.000000  \n",
       "9   1926.084     468.300000  \n",
       "10   650.000       0.600000  \n",
       "11   650.000       0.600000  \n",
       "12   570.000      10.800000  \n",
       "13   205.648      25.000000  \n",
       "14    53.576      22.650000  \n",
       "15    32.058      22.650000  \n",
       "16    75.094      22.650000  \n",
       "17   205.648      12.000000  \n",
       "18    19.610      22.650000  \n",
       "19  1262.000      11.700000  "
      ]
     },
     "execution_count": 5,
     "metadata": {},
     "output_type": "execute_result"
    }
   ],
   "source": [
    "# Filling the missing values:\n",
    "import math\n",
    "for i in range(len(df)):\n",
    "    \n",
    "    if math.isnan(df.at[i,'REG1A']) or df.at[i,'REG1A'] == 0.000:  # When REG1A is NaN or 0.000, then extract the patient's age, gender and diagnosis\n",
    "        # Note: I noticed one or two instances with REG1A = 0.000, and I considered them outliers since the rest is generally >> 100\n",
    "        age = df.at[i,'age']\n",
    "        is_male = df.at[i,'is_male']\n",
    "        diagnosis = df.at[i,'diagnosis']\n",
    "        \n",
    "        # Select a subset from the original dataframe with matching gender, diagnosis result and a valid REG1A value\n",
    "        subset = df[(df['is_male'] == is_male)&(df['diagnosis'] == diagnosis)&(df['REG1A'].isnull() == False)&(df['REG1A']!=0.0)]\n",
    "        # Further refine the subset with the closest age\n",
    "        subset = subset[(subset['age']-age).abs() == (subset['age']-age).abs().min()]\n",
    "        # Modify the missing cell values to the average of the above subset\n",
    "        df.at[i,'REG1A'] = subset['REG1A'].mean()\n",
    "    \n",
    "    if math.isnan(df.at[i,'plasma_CA19_9']):\n",
    "        age = df.at[i,'age']\n",
    "        is_male = df.at[i,'is_male']\n",
    "        diagnosis = df.at[i,'diagnosis']\n",
    "        subset = df[(df['is_male'] == is_male)&(df['diagnosis'] == diagnosis)&(df['plasma_CA19_9'].isnull() == False)]\n",
    "        subset = subset[(subset['age']-age).abs() == (subset['age']-age).abs().min()]\n",
    "        df.at[i,'plasma_CA19_9'] = subset['plasma_CA19_9'].mean()\n",
    "        \n",
    "\n",
    "df.head(20)\n"
   ]
  },
  {
   "cell_type": "code",
   "execution_count": 270,
   "metadata": {
    "scrolled": true
   },
   "outputs": [
    {
     "data": {
      "image/png": "[encoded data removed]",
      "text/plain": [
       "<Figure size 432x288 with 1 Axes>"
      ]
     },
     "metadata": {
      "needs_background": "light"
     },
     "output_type": "display_data"
    },
    {
     "data": {
      "image/png": "[encoded data removed]",
      "text/plain": [
       "<Figure size 432x288 with 1 Axes>"
      ]
     },
     "metadata": {
      "needs_background": "light"
     },
     "output_type": "display_data"
    },
    {
     "data": {
      "image/png": "[encoded data removed]",
      "text/plain": [
       "<Figure size 432x288 with 1 Axes>"
      ]
     },
     "metadata": {
      "needs_background": "light"
     },
     "output_type": "display_data"
    },
    {
     "data": {
      "image/png": "[encoded data removed]",
      "text/plain": [
       "<Figure size 432x288 with 1 Axes>"
      ]
     },
     "metadata": {
      "needs_background": "light"
     },
     "output_type": "display_data"
    },
    {
     "data": {
      "image/png": "[encoded data removed]",
      "text/plain": [
       "<Figure size 432x288 with 1 Axes>"
      ]
     },
     "metadata": {
      "needs_background": "light"
     },
     "output_type": "display_data"
    },
    {
     "data": {
      "image/png": "[encoded data removed]",
      "text/plain": [
       "<Figure size 432x288 with 1 Axes>"
      ]
     },
     "metadata": {
      "needs_background": "light"
     },
     "output_type": "display_data"
    },
    {
     "data": {
      "image/png": "[encoded data removed]",
      "text/plain": [
       "<Figure size 432x288 with 1 Axes>"
      ]
     },
     "metadata": {
      "needs_background": "light"
     },
     "output_type": "display_data"
    },
    {
     "data": {
      "image/png": "[encoded data removed]",
      "text/plain": [
       "<Figure size 432x288 with 1 Axes>"
      ]
     },
     "metadata": {
      "needs_background": "light"
     },
     "output_type": "display_data"
    },
    {
     "data": {
      "image/png": "[encoded data removed]",
      "text/plain": [
       "<Figure size 432x288 with 1 Axes>"
      ]
     },
     "metadata": {
      "needs_background": "light"
     },
     "output_type": "display_data"
    }
   ],
   "source": [
    "# Histograms of feature and target variables\n",
    "for col in df.columns:\n",
    "    plt.hist(df[col])\n",
    "    plt.title(col)\n",
    "    plt.show()"
   ]
  },
  {
   "cell_type": "markdown",
   "metadata": {},
   "source": [
    "Comment:Upon visual examination, the age distribution roughly follows a normal distribution centered around 60 years old. The 6 urinary biomarkers visually resemble the right half of a normal distribution (some with sharp peaks around 0). Diagnosis and sex are well-balanced with roughly equal ammounts to each category."
   ]
  },
  {
   "cell_type": "code",
   "execution_count": 6,
   "metadata": {},
   "outputs": [
    {
     "name": "stdout",
     "output_type": "stream",
     "text": [
      "['age', 'is_male', 'creatinine', 'LYVE1', 'REG1B', 'TFF1', 'REG1A', 'plasma_CA19_9', 'diagnosis']\n",
      "     age  is_male  creatinine      LYVE1       REG1B         TFF1      REG1A  \\\n",
      "0     26        0     0.19227   0.000906   13.027030     0.906008   381.0000   \n",
      "1     26        0     0.23751   0.000950    3.680000    50.945000   205.6480   \n",
      "2     28        0     0.50895   0.583010   13.619060   267.193539   381.0000   \n",
      "3     28        0     0.32799   0.001312    7.520023    19.210785   381.0000   \n",
      "4     28        0     0.44109   0.001764   10.888000    18.613000   205.6480   \n",
      "..   ...      ...         ...        ...         ...          ...        ...   \n",
      "585   87        0     0.87087   1.464090   11.756486   263.700200   108.2980   \n",
      "586   87        1     0.06786   0.000271    0.730367     0.005293    92.7270   \n",
      "587   87        1     0.71253  10.135810  370.105400  3351.345000   466.8755   \n",
      "588   88        0     1.09707  10.273040  113.094000  1256.712000  1453.2720   \n",
      "589   89        0     0.64467   6.836843   76.834000   981.545000   108.2980   \n",
      "\n",
      "     plasma_CA19_9  diagnosis  \n",
      "0         3.527344          1  \n",
      "1        26.000000          2  \n",
      "2         8.700000          1  \n",
      "3        84.300000          1  \n",
      "4         5.000000          2  \n",
      "..             ...        ...  \n",
      "585       4.744934          1  \n",
      "586       0.056476          1  \n",
      "587    1739.000000          3  \n",
      "588      22.000000          3  \n",
      "589       4.744934          1  \n",
      "\n",
      "[590 rows x 9 columns]\n"
     ]
    }
   ],
   "source": [
    "#Reorganize the column titles, moving diagnosis to the far right \n",
    "cols = ['age', 'is_male', 'creatinine', 'LYVE1', 'REG1B', 'TFF1', 'REG1A', 'plasma_CA19_9','diagnosis']\n",
    "print(cols)\n",
    "df=df[cols]\n",
    "print(df)"
   ]
  },
  {
   "cell_type": "code",
   "execution_count": 62,
   "metadata": {},
   "outputs": [
    {
     "data": {
      "image/png": "[encoded data removed]",
      "text/plain": [
       "<Figure size 720x720 with 2 Axes>"
      ]
     },
     "metadata": {
      "needs_background": "light"
     },
     "output_type": "display_data"
    }
   ],
   "source": [
    "# Plot a heat map for the correlation matrix\n",
    "import seaborn as sns\n",
    "\n",
    "\n",
    "\n",
    "\n",
    "corrmat = df.drop(columns=['diagnosis']).corr()\n",
    "\n",
    "plt.figure(figsize=(10,10))\n",
    "sns.heatmap(corrmat,square=True,annot=True,linewidth=.5)\n",
    "plt.savefig('C://Users//Linmin//Desktop//heat_map.png')\n",
    "plt.show()\n"
   ]
  },
  {
   "cell_type": "code",
   "execution_count": 18,
   "metadata": {},
   "outputs": [
    {
     "data": {
      "image/png": "[encoded data removed]",
      "text/plain": [
       "<Figure size 504x504 with 1 Axes>"
      ]
     },
     "metadata": {
      "needs_background": "light"
     },
     "output_type": "display_data"
    }
   ],
   "source": [
    "plt.figure(figsize=(7,7))\n",
    "\n",
    "\n",
    "plt.scatter(df[\"TFF1\"], df[\"REG1B\"])\n",
    "plt.title(\"TFF1 vs REG1B\")\n",
    "plt.xlabel(\"TFF1\")\n",
    "plt.ylabel(\"REG1B\")\n",
    "plt.show()\n"
   ]
  },
  {
   "cell_type": "code",
   "execution_count": 60,
   "metadata": {},
   "outputs": [
    {
     "data": {
      "image/png": "[encoded data removed]",
      "text/plain": [
       "<Figure size 1296x1296 with 6 Axes>"
      ]
     },
     "metadata": {
      "needs_background": "light"
     },
     "output_type": "display_data"
    }
   ],
   "source": [
    "plt.figure(figsize=(18,18))\n",
    "\n",
    "\n",
    "plt.subplot(3,3,1)\n",
    "sns.barplot(df[\"diagnosis\"], df[\"creatinine\"])\n",
    "plt.title(\"creatinine\")\n",
    "\n",
    "plt.subplot(3,3,2)\n",
    "sns.barplot(df[\"diagnosis\"], df[\"LYVE1\"])\n",
    "plt.title(\"LYVE1\")\n",
    "\n",
    "plt.subplot(3,3,3)\n",
    "sns.barplot(df[\"diagnosis\"], df[\"REG1B\"])\n",
    "plt.title(\"REG1B\")\n",
    "\n",
    "plt.subplot(3,3,4)\n",
    "sns.barplot(df[\"diagnosis\"], df[\"TFF1\"])\n",
    "plt.title(\"TFF1\")\n",
    "\n",
    "plt.subplot(3,3,5)\n",
    "sns.barplot(df[\"diagnosis\"], df[\"REG1A\"])\n",
    "plt.title(\"REG1A\")\n",
    "\n",
    "plt.subplot(3,3,6)\n",
    "sns.barplot(df[\"diagnosis\"], df[\"plasma_CA19_9\"])\n",
    "plt.title(\"plasma_CA19_9\")\n",
    "plt.savefig('C://Users//Linmin//Desktop//bar_plots.png')\n",
    "plt.show()\n",
    "\n"
   ]
  },
  {
   "cell_type": "code",
   "execution_count": 30,
   "metadata": {},
   "outputs": [
    {
     "data": {
      "image/png": "[encoded data removed]",
      "text/plain": [
       "<Figure size 504x504 with 1 Axes>"
      ]
     },
     "metadata": {
      "needs_background": "light"
     },
     "output_type": "display_data"
    }
   ],
   "source": [
    "plt.figure(figsize=(7,7))\n",
    "\n",
    "sns.barplot(df[\"diagnosis\"], df[\"age\"])\n",
    "plt.title(\"age\")\n",
    "plt.show()"
   ]
  },
  {
   "cell_type": "markdown",
   "metadata": {},
   "source": []
  },
  {
   "cell_type": "code",
   "execution_count": 457,
   "metadata": {},
   "outputs": [
    {
     "name": "stdout",
     "output_type": "stream",
     "text": [
      "X train set shape:  (472, 8)\n",
      "Y train set shape:  (472,)\n",
      "X test set shape:  (118, 8)\n",
      "Y test set shape:  (118,)\n"
     ]
    }
   ],
   "source": [
    "# Assign training set and test set, the test set will be 1/5 of the total samples\n",
    "\n",
    "from sklearn.model_selection import train_test_split\n",
    "\n",
    "X = df.drop(['diagnosis'],axis = 1)\n",
    "y = df['diagnosis']\n",
    "\n",
    "\n",
    "X_train, X_test, y_train, y_test = train_test_split(X, y, test_size=0.20, random_state=1)\n",
    "print('X train set shape: ', X_train.shape)\n",
    "print('Y train set shape: ', y_train.shape)\n",
    "print('X test set shape: ', X_test.shape)\n",
    "print('Y test set shape: ', y_test.shape)\n"
   ]
  },
  {
   "cell_type": "code",
   "execution_count": 300,
   "metadata": {},
   "outputs": [],
   "source": [
    "# Define a confusion matrix plotting function. The function was provided by Thinkful guided examples.\n",
    "def plot_confusion_matrix(cm,\n",
    "                          target_names,\n",
    "                          title='Confusion matrix',\n",
    "                          cmap=None,\n",
    "                          normalize=True):\n",
    "    \"\"\"\n",
    "    Given a scikit-learn confusion matrix (CM), make a nice plot.\n",
    "\n",
    "    Arguments\n",
    "    ---------\n",
    "    cm:           Confusion matrix from sklearn.metrics.confusion_matrix\n",
    "\n",
    "    target_names: Given classification classes, such as [0, 1, 2]\n",
    "                  The class names, for example, ['high', 'medium', 'low']\n",
    "\n",
    "    title:        The text to display at the top of the matrix\n",
    "\n",
    "    cmap:         The gradient of the values displayed from matplotlib.pyplot.cm\n",
    "                  See http://matplotlib.org/examples/color/colormaps_reference.html\n",
    "                  `plt.get_cmap('jet')` or `plt.cm.Blues`\n",
    "\n",
    "    normalize:    If `False`, plot the raw numbers\n",
    "                  If `True`, plot the proportions\n",
    "\n",
    "    Usage\n",
    "    -----\n",
    "    plot_confusion_matrix(cm           = cm,                  # Confusion matrix created by\n",
    "                                                              # `sklearn.metrics.confusion_matrix`\n",
    "                          normalize    = True,                # Show proportions\n",
    "                          target_names = y_labels_vals,       # List of names of the classes\n",
    "                          title        = best_estimator_name) # Title of graph\n",
    "\n",
    "    Citation\n",
    "    ---------\n",
    "    http://scikit-learn.org/stable/auto_examples/model_selection/plot_confusion_matrix.html\n",
    "\n",
    "    \"\"\"\n",
    "    import matplotlib.pyplot as plt\n",
    "    import numpy as np\n",
    "    import itertools\n",
    "\n",
    "    accuracy = np.trace(cm) / float(np.sum(cm))\n",
    "    misclass = 1 - accuracy\n",
    "\n",
    "    if cmap is None:\n",
    "        cmap = plt.get_cmap('Blues')\n",
    "\n",
    "    plt.figure(figsize=(8, 6))\n",
    "    plt.imshow(cm, interpolation='nearest', cmap=cmap)\n",
    "    plt.title(title)\n",
    "    plt.colorbar()\n",
    "\n",
    "    if target_names is not None:\n",
    "        tick_marks = np.arange(len(target_names))\n",
    "        plt.xticks(tick_marks, target_names, rotation=45)\n",
    "        plt.yticks(tick_marks, target_names)\n",
    "\n",
    "    if normalize:\n",
    "        cm = cm.astype('float') / cm.sum(axis=1)[:, np.newaxis]\n",
    "\n",
    "\n",
    "    thresh = cm.max() / 1.5 if normalize else cm.max() / 2\n",
    "    for i, j in itertools.product(range(cm.shape[0]), range(cm.shape[1])):\n",
    "        if normalize:\n",
    "            plt.text(j, i, \"{:0.4f}\".format(cm[i, j]),\n",
    "                     horizontalalignment=\"center\",\n",
    "                     color=\"white\" if cm[i, j] > thresh else \"black\")\n",
    "        else:\n",
    "            plt.text(j, i, \"{:,}\".format(cm[i, j]),\n",
    "                     horizontalalignment=\"center\",\n",
    "                     color=\"white\" if cm[i, j] > thresh else \"black\")\n",
    "\n",
    "\n",
    "    plt.tight_layout()\n",
    "    plt.ylabel('Predicted label')\n",
    "    plt.xlabel('True label\\naccuracy={:0.4f}; misclass={:0.4f}'.format(accuracy, misclass))\n",
    "    plt.show()\n"
   ]
  },
  {
   "cell_type": "markdown",
   "metadata": {},
   "source": [
    "2. Logistic Regression\n",
    "\n"
   ]
  },
  {
   "cell_type": "code",
   "execution_count": 278,
   "metadata": {},
   "outputs": [
    {
     "data": {
      "image/png": "[encoded data removed]",
      "text/plain": [
       "<Figure size 576x432 with 2 Axes>"
      ]
     },
     "metadata": {
      "needs_background": "light"
     },
     "output_type": "display_data"
    },
    {
     "name": "stdout",
     "output_type": "stream",
     "text": [
      "              precision    recall  f1-score   support\n",
      "\n",
      "           1       0.74      0.57      0.65        40\n",
      "           2       0.58      0.71      0.64        41\n",
      "           3       0.81      0.81      0.81        37\n",
      "\n",
      "    accuracy                           0.69       118\n",
      "   macro avg       0.71      0.70      0.70       118\n",
      "weighted avg       0.71      0.69      0.70       118\n",
      "\n"
     ]
    }
   ],
   "source": [
    "from sklearn.linear_model import LogisticRegression\n",
    "from sklearn.model_selection import  cross_val_score\n",
    "from sklearn.metrics import  classification_report, confusion_matrix\n",
    "\n",
    "LR = LogisticRegression(solver='lbfgs', multi_class='multinomial', max_iter=10000,penalty='none')\n",
    "LR.fit(X_train,y_train)\n",
    "y_predict_LR = LR.predict(X_test)\n",
    "\n",
    "CM_LR = confusion_matrix(y_test, y_predict_LR)\n",
    "plot_confusion_matrix(cm=CM_LR, target_names=[1,2,3], title = 'Confusion Matrix',normalize=False)\n",
    "\n",
    "print(classification_report(y_predict_LR,y_test))"
   ]
  },
  {
   "cell_type": "code",
   "execution_count": 492,
   "metadata": {},
   "outputs": [
    {
     "name": "stdout",
     "output_type": "stream",
     "text": [
      "Accuracy scores for the 5 folds OvR LR:  [0.57627119 0.80508475 0.74576271 0.65254237 0.6440678 ]\n",
      "Mean cross validation score OvR LR: 0.685\n",
      "Std cross validation score OvR LR: 0.081\n",
      "Accuracy scores for the 5 folds multinominal LR:  [0.57627119 0.76271186 0.76271186 0.68644068 0.6779661 ]\n",
      "Mean cross validation score multinominal LR: 0.693\n",
      "Std cross validation score multinominal LR: 0.069\n"
     ]
    }
   ],
   "source": [
    "# Cross-validation and comparison for two types of Logistic Regression: OvR and multi-nomial\n",
    "LR_cv = LogisticRegression(solver='lbfgs', multi_class='ovr', max_iter=10000)\n",
    "LR_cv_scores = cross_val_score(LR_cv, X, y, cv=5)\n",
    "print('Accuracy scores for the 5 folds OvR LR: ', LR_cv_scores)\n",
    "print('Mean cross validation score OvR LR: {:.3f}'.format(np.mean(LR_cv_scores)))\n",
    "print('Std cross validation score OvR LR: {:.3f}'.format(np.std(LR_cv_scores)))\n",
    "\n",
    "LR_cv_multi = LogisticRegression(solver='lbfgs', multi_class='multinomial', max_iter=10000)\n",
    "LR_cv_scores = cross_val_score(LR_cv_multi, X, y, cv=5)\n",
    "print('Accuracy scores for the 5 folds multinominal LR: ', LR_cv_scores)\n",
    "print('Mean cross validation score multinominal LR: {:.3f}'.format(np.mean(LR_cv_scores)))\n",
    "print('Std cross validation score multinominal LR: {:.3f}'.format(np.std(LR_cv_scores)))\n",
    "\n",
    "\n"
   ]
  },
  {
   "cell_type": "markdown",
   "metadata": {},
   "source": [
    "3. Random Forest"
   ]
  },
  {
   "cell_type": "code",
   "execution_count": 481,
   "metadata": {},
   "outputs": [
    {
     "name": "stdout",
     "output_type": "stream",
     "text": [
      "[50.0, 'entropy', 3.0]\n",
      "0.6898305084745762\n",
      "[10.0, 'entropy', 4.0]\n",
      "0.045981898190679805\n"
     ]
    }
   ],
   "source": [
    "# Tuning the random forest model with number of trees generated (i), criterion (j) and max features included (k)\n",
    "from sklearn.ensemble import RandomForestClassifier\n",
    "max_mean = 0.0\n",
    "min_std = 100.0\n",
    "for i in np.linspace(10,100,10):\n",
    "    for j in ['entropy','gini']:\n",
    "        for k in np.linspace(1,8,8):\n",
    "            RF_cv = RandomForestClassifier(n_estimators=int(i),random_state=1,criterion=j,max_features=int(k))\n",
    "            RF_cv_scores = cross_val_score(RF_cv, X, y, cv=5)\n",
    "            if np.mean(RF_cv_scores) >= max_mean:\n",
    "                max_condition = [i,j,k]\n",
    "                max_mean = np.mean(RF_cv_scores)\n",
    "            if np.std(RF_cv_scores) <= min_std:\n",
    "                min_std_condition = [i,j,k]\n",
    "                min_std = np.std(RF_cv_scores)\n",
    "            \n",
    "            \n",
    "    \n",
    "print(max_condition)\n",
    "print(max_mean)\n",
    "print(min_std_condition)\n",
    "print(min_std)\n"
   ]
  },
  {
   "cell_type": "markdown",
   "metadata": {},
   "source": [
    "Searching through hyperparameter space leads to the following conditions to be chosen: 50 trees generated via entropy criterion with 3 features considered per tree. "
   ]
  },
  {
   "cell_type": "code",
   "execution_count": 490,
   "metadata": {},
   "outputs": [
    {
     "data": {
      "image/png": "[encoded data removed]",
      "text/plain": [
       "<Figure size 576x432 with 2 Axes>"
      ]
     },
     "metadata": {
      "needs_background": "light"
     },
     "output_type": "display_data"
    },
    {
     "name": "stdout",
     "output_type": "stream",
     "text": [
      "              precision    recall  f1-score   support\n",
      "\n",
      "           1       0.68      0.70      0.69        30\n",
      "           2       0.68      0.76      0.72        45\n",
      "           3       0.92      0.79      0.85        43\n",
      "\n",
      "    accuracy                           0.75       118\n",
      "   macro avg       0.76      0.75      0.75       118\n",
      "weighted avg       0.77      0.75      0.76       118\n",
      "\n"
     ]
    }
   ],
   "source": [
    "RF = RandomForestClassifier(n_estimators=50,criterion = 'entropy',max_features = 3,random_state=3)\n",
    "RF.fit(X_train,y_train)\n",
    "y_predict_RF = RF.predict(X_test)\n",
    "CM_RF = confusion_matrix(y_test, y_predict_RF)\n",
    "plot_confusion_matrix(cm=CM_RF, target_names=[1,2,3], title = 'Confusion Matrix',normalize=False)\n",
    "\n",
    "print(classification_report(y_predict_RF,y_test))"
   ]
  },
  {
   "cell_type": "code",
   "execution_count": 489,
   "metadata": {},
   "outputs": [
    {
     "name": "stdout",
     "output_type": "stream",
     "text": [
      "Accuracy scores for the 5 folds RF:  [0.56779661 0.77966102 0.69491525 0.70338983 0.70338983]\n",
      "Mean cross validation score RF: 0.690\n",
      "Std cross validation score RF: 0.068\n"
     ]
    }
   ],
   "source": [
    "# Cross-validation\n",
    "RF_cv = RandomForestClassifier(n_estimators=50,random_state=1,criterion='entropy',max_features=3)\n",
    "RF_cv_scores = cross_val_score(RF_cv, X, y, cv=5)\n",
    "print('Accuracy scores for the 5 folds RF: ', RF_cv_scores)\n",
    "print('Mean cross validation score RF: {:.3f}'.format(np.mean(RF_cv_scores)))\n",
    "print('Std cross validation score RF: {:.3f}'.format(np.std(RF_cv_scores)))"
   ]
  },
  {
   "cell_type": "markdown",
   "metadata": {},
   "source": [
    "4. SVM"
   ]
  },
  {
   "cell_type": "code",
   "execution_count": 508,
   "metadata": {},
   "outputs": [
    {
     "data": {
      "image/png": "[encoded data removed]",
      "text/plain": [
       "<Figure size 576x432 with 2 Axes>"
      ]
     },
     "metadata": {
      "needs_background": "light"
     },
     "output_type": "display_data"
    },
    {
     "name": "stdout",
     "output_type": "stream",
     "text": [
      "              precision    recall  f1-score   support\n",
      "\n",
      "           1       0.77      0.56      0.65        43\n",
      "           2       0.60      0.71      0.65        42\n",
      "           3       0.76      0.85      0.80        33\n",
      "\n",
      "    accuracy                           0.69       118\n",
      "   macro avg       0.71      0.71      0.70       118\n",
      "weighted avg       0.71      0.69      0.69       118\n",
      "\n"
     ]
    }
   ],
   "source": [
    "from sklearn.svm import SVC\n",
    "\n",
    "# Instantiate the model and fit the data\n",
    "\n",
    "SVM = SVC(kernel = 'linear')\n",
    "SVM.fit(X_train, y_train)\n",
    "y_predict_SVM = SVM.predict(X_test)\n",
    "\n",
    "CM_SVM = confusion_matrix(y_test, y_predict_SVM)\n",
    "plot_confusion_matrix(cm=CM_SVM, target_names=[1,2,3], title = 'Confusion Matrix',normalize=False)\n",
    "\n",
    "print(classification_report(y_predict_SVM,y_test))"
   ]
  },
  {
   "cell_type": "code",
   "execution_count": 396,
   "metadata": {},
   "outputs": [
    {
     "name": "stdout",
     "output_type": "stream",
     "text": [
      "Accuracy scores for the 5 folds SVM:  [0.56779661 0.77966102 0.73728814 0.70338983 0.72033898]\n",
      "Mean cross validation score SVM: 0.702\n"
     ]
    }
   ],
   "source": [
    "# Cross-validation\n",
    "SVM_cv = SVC(kernel = 'linear')\n",
    "SVM_cv_scores = cross_val_score(SVM_cv, X, y, cv=5)\n",
    "print('Accuracy scores for the 5 folds SVM: ', SVM_cv_scores)\n",
    "print('Mean cross validation score SVM: {:.3f}'.format(np.mean(SVM_cv_scores)))"
   ]
  },
  {
   "cell_type": "markdown",
   "metadata": {},
   "source": [
    "5. k-Nearest Neighbors"
   ]
  },
  {
   "cell_type": "code",
   "execution_count": 448,
   "metadata": {},
   "outputs": [
    {
     "name": "stdout",
     "output_type": "stream",
     "text": [
      "        Mean   Std\n",
      "NN = 1 0.595 0.034 [0.54237288 0.56779661 0.61016949 0.62711864 0.62711864]\n",
      "NN = 2 0.585 0.039 [0.52542373 0.56779661 0.57627119 0.62711864 0.62711864]\n",
      "NN = 3 0.625 0.049 [0.53389831 0.63559322 0.6779661  0.62711864 0.65254237]\n",
      "NN = 4 0.608 0.078 [0.47457627 0.57627119 0.66949153 0.62711864 0.69491525]\n",
      "NN = 5 0.612 0.055 [0.51694915 0.60169492 0.66949153 0.61016949 0.66101695]\n",
      "NN = 6 0.602 0.078 [0.47457627 0.58474576 0.6440678  0.59322034 0.71186441]\n",
      "NN = 7 0.615 0.064 [0.50847458 0.62711864 0.66949153 0.58474576 0.68644068]\n",
      "NN = 8 0.622 0.074 [0.48305085 0.63559322 0.69491525 0.62711864 0.66949153]\n",
      "NN = 9 0.612 0.065 [0.49152542 0.61016949 0.6440678  0.62711864 0.68644068]\n",
      "NN = 10 0.627 0.069 [0.50847458 0.63559322 0.65254237 0.61864407 0.72033898]\n",
      "NN = 11 0.622 0.044 [0.55932203 0.60169492 0.63559322 0.61864407 0.69491525]\n",
      "NN = 12 0.619 0.063 [0.5        0.63559322 0.6440678  0.62711864 0.68644068]\n"
     ]
    }
   ],
   "source": [
    "# Tuning: 12 values of nearest neighbors are tested, aiming to find the highest cross validation scores\n",
    "\n",
    "from sklearn.neighbors import KNeighborsClassifier\n",
    "\n",
    "print('        Mean   Std')\n",
    "for j in np.linspace(1,12,12):\n",
    "    KNN_cv = KNeighborsClassifier(n_neighbors=int(j),n_jobs=-1)\n",
    "    KNN_cv_scores = cross_val_score(KNN_cv, X, y, cv=5)\n",
    "    \n",
    "    print('NN = '+str(j),round(np.mean(KNN_cv_scores),3),round(np.std(KNN_cv_scores),3),KNN_cv_scores)"
   ]
  },
  {
   "cell_type": "markdown",
   "metadata": {},
   "source": [
    "Though NN = 10 produces the highest mean score at 0.627, NN = 3 is selected as it has second highest average score while providing much lower standard deviation in the five cross validations. Also, having a lower nearest neighbors helps with distinguishing subtle boundaries between diagnosis outcomes. "
   ]
  },
  {
   "cell_type": "code",
   "execution_count": 445,
   "metadata": {},
   "outputs": [
    {
     "data": {
      "image/png": "[encoded data removed]",
      "text/plain": [
       "<Figure size 576x432 with 2 Axes>"
      ]
     },
     "metadata": {
      "needs_background": "light"
     },
     "output_type": "display_data"
    },
    {
     "name": "stdout",
     "output_type": "stream",
     "text": [
      "              precision    recall  f1-score   support\n",
      "\n",
      "           1       0.74      0.55      0.63        42\n",
      "           2       0.48      0.60      0.53        40\n",
      "           3       0.73      0.75      0.74        36\n",
      "\n",
      "    accuracy                           0.63       118\n",
      "   macro avg       0.65      0.63      0.63       118\n",
      "weighted avg       0.65      0.63      0.63       118\n",
      "\n"
     ]
    }
   ],
   "source": [
    "# Instantiate the model and fit the data\n",
    "\n",
    "KNN = KNeighborsClassifier(n_neighbors=3,n_jobs=-1)\n",
    "KNN.fit(X_train, y_train)\n",
    "y_predict_KNN = KNN.predict(X_test)\n",
    "CM_KNN = confusion_matrix(y_test, y_predict_KNN)\n",
    "plot_confusion_matrix(cm=CM_KNN, target_names=[1,2,3], title = 'Confusion Matrix',normalize=False)\n",
    "\n",
    "print(classification_report(y_predict_KNN,y_test))\n"
   ]
  },
  {
   "cell_type": "code",
   "execution_count": 491,
   "metadata": {},
   "outputs": [
    {
     "name": "stdout",
     "output_type": "stream",
     "text": [
      "Accuracy scores for the 5 folds KNN:  [0.53389831 0.63559322 0.6779661  0.62711864 0.65254237]\n",
      "Mean cross validation score KNN: 0.625\n",
      "Std cross validation score KNN: 0.049\n"
     ]
    }
   ],
   "source": [
    "KNN_cv = KNeighborsClassifier(n_neighbors=3,n_jobs=-1)\n",
    "KNN_cv_scores = cross_val_score(KNN_cv, X, y, cv=5)\n",
    "\n",
    "\n",
    "print('Accuracy scores for the 5 folds KNN: ', KNN_cv_scores)\n",
    "print('Mean cross validation score KNN: {:.3f}'.format(np.mean(KNN_cv_scores)))\n",
    "print('Std cross validation score KNN: {:.3f}'.format(np.std(KNN_cv_scores)))"
   ]
  },
  {
   "cell_type": "markdown",
   "metadata": {},
   "source": [
    "6. Dummy Classifier"
   ]
  },
  {
   "cell_type": "code",
   "execution_count": 509,
   "metadata": {},
   "outputs": [
    {
     "name": "stdout",
     "output_type": "stream",
     "text": [
      "              precision    recall  f1-score   support\n",
      "\n",
      "           1       0.00      0.00      0.00         0\n",
      "           2       0.00      0.00      0.00         0\n",
      "           3       1.00      0.31      0.48       118\n",
      "\n",
      "    accuracy                           0.31       118\n",
      "   macro avg       0.33      0.10      0.16       118\n",
      "weighted avg       1.00      0.31      0.48       118\n",
      "\n",
      "Accuracy scores for the 5 folds Dummy Model:  [0.3559322  0.34745763 0.34745763 0.3559322  0.3559322 ]\n",
      "Mean cross validation score Dummy: 0.353\n",
      "Std cross validation score Dummy: 0.004\n"
     ]
    },
    {
     "name": "stderr",
     "output_type": "stream",
     "text": [
      "C:\\Users\\Linmin\\anaconda3\\lib\\site-packages\\sklearn\\metrics\\_classification.py:1221: UndefinedMetricWarning: Recall and F-score are ill-defined and being set to 0.0 in labels with no true samples. Use `zero_division` parameter to control this behavior.\n",
      "  _warn_prf(average, modifier, msg_start, len(result))\n"
     ]
    }
   ],
   "source": [
    "from sklearn.dummy import DummyClassifier\n",
    "\n",
    "# \"Train\" a dummy model using the most frequent diagnosis outcome, the resulting accuracy is the one we need to beat\n",
    "Dummy = DummyClassifier(strategy=\"most_frequent\")\n",
    "Dummy.fit(X_train, y_train)\n",
    "y_predict_Dummy = Dummy.predict(X_test)\n",
    "\n",
    "Dummy_cv_scores = cross_val_score(Dummy, X, y, cv=5)\n",
    "\n",
    "print(classification_report(y_predict_Dummy,y_test))\n",
    "\n",
    "print('Accuracy scores for the 5 folds Dummy Model: ', Dummy_cv_scores)\n",
    "print('Mean cross validation score Dummy: {:.3f}'.format(np.mean(Dummy_cv_scores)))\n",
    "print('Std cross validation score Dummy: {:.3f}'.format(np.std(Dummy_cv_scores)))"
   ]
  },
  {
   "cell_type": "markdown",
   "metadata": {},
   "source": [
    "7. Summary and Conclusion:"
   ]
  },
  {
   "cell_type": "code",
   "execution_count": 517,
   "metadata": {},
   "outputs": [
    {
     "name": "stdout",
     "output_type": "stream",
     "text": [
      "                        Mean Score   Std-dev  Recall (Cancer Case)\n",
      "Logistic Regression       0.693220  0.068722                  0.81\n",
      "Random Forest             0.689831  0.068345                  0.79\n",
      "Support Vector Machine    0.701695  0.071589                  0.85\n",
      "K-Nearest Neighbour       0.625424  0.048948                  0.75\n",
      "Dummy Model               0.352542  0.004152                  0.31\n"
     ]
    },
    {
     "data": {
      "image/png": "[encoded data removed]",
      "text/plain": [
       "<Figure size 576x432 with 2 Axes>"
      ]
     },
     "metadata": {
      "needs_background": "light"
     },
     "output_type": "display_data"
    },
    {
     "data": {
      "image/png": "[encoded data removed]",
      "text/plain": [
       "<Figure size 576x432 with 2 Axes>"
      ]
     },
     "metadata": {
      "needs_background": "light"
     },
     "output_type": "display_data"
    },
    {
     "data": {
      "image/png": "[encoded data removed]",
      "text/plain": [
       "<Figure size 576x432 with 2 Axes>"
      ]
     },
     "metadata": {
      "needs_background": "light"
     },
     "output_type": "display_data"
    },
    {
     "data": {
      "image/png": "[encoded data removed]",
      "text/plain": [
       "<Figure size 576x432 with 2 Axes>"
      ]
     },
     "metadata": {
      "needs_background": "light"
     },
     "output_type": "display_data"
    }
   ],
   "source": [
    "testscores = pd.DataFrame(data={'Mean Score':[np.mean(LR_cv_scores), np.mean(RF_cv_scores),np.mean(SVM_cv_scores),np.mean(KNN_cv_scores), np.mean(Dummy_cv_scores)],\n",
    "                               'Std-dev' :[np.std(LR_cv_scores), np.std(RF_cv_scores),np.std(SVM_cv_scores),np.std(KNN_cv_scores), np.std(Dummy_cv_scores)],\n",
    "                               'Recall (Cancer Case)':[0.81,0.79,0.85,0.75,0.31]\n",
    "                               },\n",
    "                       \n",
    "                        index=['Logistic Regression',  'Random Forest','Support Vector Machine', 'K-Nearest Neighbour','Dummy Model']) \n",
    "print(testscores)\n",
    "\n",
    "plot_confusion_matrix(cm=CM_LR, target_names=[1,2,3], title = 'Logistic Regression',normalize=False)\n",
    "plot_confusion_matrix(cm=CM_RF, target_names=[1,2,3], title = 'Random Forest',normalize=False)\n",
    "plot_confusion_matrix(cm=CM_SVM, target_names=[1,2,3], title = 'Support Vector Machine',normalize=False)\n",
    "plot_confusion_matrix(cm=CM_KNN, target_names=[1,2,3], title = 'K-nearest Neighbor',normalize=False)"
   ]
  },
  {
   "cell_type": "markdown",
   "metadata": {},
   "source": [
    "After fine-tuning each individual models by searching in the hyperparameter space, support vector machine produces the highest mean accuracy among its counterparts even though the standard deviation of a 5-fold cross validation is also the highest amoung all (0.072), but not too much higher than logistic regression(0.069) and random forest(0.068). KNN and the dummy model show low standard deviation in cross validation, meaning a consistent performance over unseen data, but their relatively low accuracies suggest a poor but consistent performance. All models outperform the dummy model by a huge margin in terms of the mean accuracy and recall, nonetheless. Notebly, the other important parameter for pancreatic cancer detection - recall for pancreatic cancer - also remains the highest for SVM, suggesting that 85% of patients with pancreatic cancer will be successfully detected by this algorithm.\n",
    "\n",
    "The confusion matrix for each model showcases one instance from each cross validation, meaning that the best results may differ from an average score of a 5-fold cross validation. Regardless, the confusion matrices reveal rather large off-diagnal values for all models, which correpsond to relatively lower recalls for each outcome. Notebly, fair number of actual health patients (label 1) are mis-classified as having pancreatic disease (label 2), leading to the lowest recall among case 2 and 3.This observation showcases the difficulty to distinguish a healthy patient and a patient with pancreatic disease. Judging from the confusion matrices along shown above, random forest could be a strong candidate for further fine-tuning, having the highest recalls and relatively low standard deviation in cross validation, but it underperforms SVM in cross validation. "
   ]
  },
  {
   "cell_type": "code",
   "execution_count": null,
   "metadata": {},
   "outputs": [],
   "source": []
  }
 ],
 "metadata": {
  "kernelspec": {
   "display_name": "Python 3",
   "language": "python",
   "name": "python3"
  },
  "language_info": {
   "codemirror_mode": {
    "name": "ipython",
    "version": 3
   },
   "file_extension": ".py",
   "mimetype": "text/x-python",
   "name": "python",
   "nbconvert_exporter": "python",
   "pygments_lexer": "ipython3",
   "version": "3.8.8"
  }
 },
 "nbformat": 4,
 "nbformat_minor": 4
}
